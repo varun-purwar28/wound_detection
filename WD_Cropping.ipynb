{
  "nbformat": 4,
  "nbformat_minor": 0,
  "metadata": {
    "colab": {
      "provenance": []
    },
    "kernelspec": {
      "name": "python3",
      "display_name": "Python 3"
    },
    "language_info": {
      "name": "python"
    }
  },
  "cells": [
    {
      "cell_type": "code",
      "source": [
        "from google.colab import drive\n",
        "drive.mount('/content/drive', force_remount=True)"
      ],
      "metadata": {
        "colab": {
          "base_uri": "https://localhost:8080/"
        },
        "id": "4RStuVrmHnNF",
        "outputId": "c4cd1dc4-d8d5-4b7a-a706-9a56f76e38ea"
      },
      "execution_count": null,
      "outputs": [
        {
          "output_type": "stream",
          "name": "stdout",
          "text": [
            "Mounted at /content/drive\n"
          ]
        }
      ]
    },
    {
      "cell_type": "code",
      "execution_count": null,
      "metadata": {
        "id": "CV95YapaG3kg"
      },
      "outputs": [],
      "source": [
        "import os\n",
        "import json\n",
        "import cv2\n",
        "import numpy as np\n",
        "\n",
        "# # Set the base directory where the files are located\n",
        "# base_dir = '/content/drive/MyDrive/wound_detection/wdd_temp1'\n",
        "\n",
        "# # Create directories to store the cropped images and labels\n",
        "# cropped_dir = os.path.join(base_dir, 'cropped_images')\n",
        "# cropped_images_dir = os.path.join(cropped_dir, 'images')\n",
        "# cropped_labels_dir = os.path.join(cropped_dir, 'labels')\n",
        "\n",
        "# # Create the directories if they don't exist\n",
        "# for dir_path in [cropped_dir, cropped_images_dir, cropped_labels_dir]:\n",
        "#     if not os.path.exists(dir_path):\n",
        "#         os.makedirs(dir_path)\n",
        "\n",
        "# # Iterate through the subdirectories\n",
        "# for subdir in os.listdir(base_dir):\n",
        "#     if subdir != 'cropped_images':\n",
        "#         subdir_path = os.path.join(base_dir, subdir)\n",
        "#         for root, dirs, files in os.walk(subdir_path):\n",
        "#             for file in files:\n",
        "#                 if file.endswith('.json'):\n",
        "#                     # Load the JSON file\n",
        "#                     json_path = os.path.join(root, file)\n",
        "#                     with open(json_path, 'r') as f:\n",
        "#                         data = json.load(f)\n",
        "\n",
        "#                     # Get the ROI, wound_area, and wound coordinates from the JSON file\n",
        "#                     roi = data['shapes'][0]['points']\n",
        "#                     wound_area = data['shapes'][1]['points']\n",
        "#                     wound = data['shapes'][2]['points']\n",
        "\n",
        "#                     # Construct the image file path\n",
        "#                     image_file = file.replace('.json', '.jpg')\n",
        "#                     image_path = os.path.join(root, image_file)\n",
        "\n",
        "#                     # Load the image and check if it's valid\n",
        "#                     image = cv2.imread(image_path)\n",
        "#                     if image is None:\n",
        "#                         print(f\"Error loading image: {image_path}\")\n",
        "#                         continue\n",
        "\n",
        "#                     # Crop the image based on the ROI coordinates\n",
        "#                     roi_x, roi_y, roi_w, roi_h = int(roi[0][0]), int(roi[0][1]), int(roi[1][0] - roi[0][0]), int(roi[1][1] - roi[0][1])\n",
        "#                     cropped_image = image[roi_y:roi_y+roi_h, roi_x:roi_x+roi_w]\n",
        "\n",
        "#                     # Check if the cropped image is valid\n",
        "#                     if cropped_image is None or cropped_image.size == 0:\n",
        "#                         print(f\"Error cropping image: {image_path}\")\n",
        "#                         continue\n",
        "\n",
        "#                     # Save the cropped image to the 'cropped_images/images' directory\n",
        "#                     cropped_image_file = os.path.join(cropped_images_dir, file.replace('.json', '.jpg'))\n",
        "#                     cv2.imwrite(cropped_image_file, cropped_image)\n",
        "#                     print(f\"Saved cropped image: {cropped_image_file}\")\n",
        "\n",
        "#                     # Save the JSON file to the 'cropped_images/labels' directory\n",
        "#                     cropped_label_file = os.path.join(cropped_labels_dir, file)\n",
        "#                     with open(cropped_label_file, 'w') as f:\n",
        "#                         json.dump(data, f)\n",
        "#                     print(f\"Saved cropped label: {cropped_label_file}\")"
      ]
    },
    {
      "cell_type": "code",
      "source": [
        "##FROM PREVIOUS CODE\n",
        "# cropped_images = '/content/drive/MyDrive/wound_detection/wdd_temp1/cropped_images/images'\n",
        "\n",
        "# for image_name in os.listdir(cropped_images):\n",
        "#     # Convert image to grayscale\n",
        "#     img_path = cropped_images+'/'+image_name\n",
        "#     img = cv2.imread(img_path)\n",
        "#     gray = cv2.cvtColor(img, cv2.COLOR_BGR2GRAY)\n",
        "#         #gray = cv2.cvtColor(img, cv2.COLOR_BGR2RGB)\n",
        "#         # Apply adaptive thresholding to create a binary mask\n",
        "#     _, mask = cv2.threshold(gray, 0, 255, cv2.THRESH_BINARY_INV + cv2.THRESH_OTSU)\n",
        "#         # Find contours in the mask\n",
        "#     contours, _ = cv2.findContours(mask, cv2.RETR_EXTERNAL, cv2.CHAIN_APPROX_SIMPLE)\n",
        "\n",
        "#         # Create a blank mask image\n",
        "#     #mask_image = np.zeros_like(img_path)\n",
        "#     mask_image = np.zeros(img.shape, dtype = 'uint8')\n",
        "#     # Draw contours on the mask image\n",
        "#     cv2.drawContours(mask_image, contours, -1, (0, 255, 255), thickness=cv2.FILLED)\n",
        "#     # Apply the mask to the cropped image\n",
        "#     #masked_image = cv2.bitwise_and(img_path, mask_image)\n",
        "#     path = '/content/drive/MyDrive/wound_detection/wdd_temp1/masks'\n",
        "#     if not os.path.exists(path):\n",
        "#       os.makedirs(path)\n",
        "#     cv2.imwrite(os.path.join(path , image_name + '.jpg'),mask_image)\n",
        "#     cv2.waitKey(0)\n"
      ],
      "metadata": {
        "id": "WMIAJtmQKTZt"
      },
      "execution_count": null,
      "outputs": []
    },
    {
      "cell_type": "code",
      "source": [
        "import cv2\n",
        "image = cv2.imread('/content/drive/MyDrive/wound_detection/wdd_temp1/cropped_images/images/20230918_174755.jpg')\n",
        "image_wt = image.shape[1]\n",
        "image_ht = image.shape[0]\n",
        "print(image_wt)\n",
        "print(image_ht)"
      ],
      "metadata": {
        "colab": {
          "base_uri": "https://localhost:8080/"
        },
        "id": "v5SQKu5vgMTQ",
        "outputId": "1d2dba05-efac-4e9e-bfca-93ed19511fd9"
      },
      "execution_count": null,
      "outputs": [
        {
          "output_type": "stream",
          "name": "stdout",
          "text": [
            "1013\n",
            "925\n"
          ]
        }
      ]
    },
    {
      "cell_type": "code",
      "source": [
        "import json\n",
        "import numpy as np\n",
        "import cv2\n",
        "from google.colab.patches import cv2_imshow\n",
        "from IPython.display import display, Image\n",
        "from PIL import Image as PILImage\n",
        "\n",
        "# Load the JSON file\n",
        "with open('/content/drive/MyDrive/wound_detection/wdd_temp1/cropped_images/labels/20230918_174755.json') as f:\n",
        "    data = json.load(f)\n",
        "\n",
        "# Create a mask for all labels\n",
        "mask = np.ones((2128, 4608, 3), dtype=np.uint8) * 255  # Initialize with white background\n",
        "# Iterate over the shapes\n",
        "for shape in data['shapes']:\n",
        "    label = shape['label']\n",
        "    points = np.array(shape['points'], dtype=np.int32)\n",
        "\n",
        "    if label == 'roi':\n",
        "        x, y, w, h = cv2.boundingRect(points)\n",
        "        cv2.rectangle(mask, (x, y), (x+w, y+h), (0, 0, 0), -1)\n",
        "    elif label == 'wound_area':\n",
        "        cv2.fillPoly(mask, [points], (0, 255, 0))\n",
        "    elif label == 'wound':\n",
        "        cv2.fillPoly(mask, [points], (0, 0, 255))\n",
        "\n",
        "# Resize the mask to a smaller size\n",
        "scale_percent = 50  # percent of original size\n",
        "width = int(mask.shape[1] * scale_percent / 100)\n",
        "height = int(mask.shape[0] * scale_percent / 100)\n",
        "dim = (width, height)\n",
        "resized_mask = cv2.resize(mask, dim, interpolation=cv2.INTER_AREA)\n",
        "\n",
        "# Display the resized mask\n",
        "_, img_encoded = cv2.imencode('.png', resized_mask)\n",
        "display(Image(data=img_encoded.tobytes()))"
      ],
      "metadata": {
        "id": "Gr2oo5WM31hX",
        "outputId": "ce991729-88af-49c3-828e-945ea140cf8e",
        "colab": {
          "base_uri": "https://localhost:8080/",
          "height": 707
        }
      },
      "execution_count": null,
      "outputs": [
        {
          "output_type": "display_data",
          "data": {
            "image/png": "[encoded data removed]",
            "text/plain": [
              "<IPython.core.display.Image object>"
            ]
          },
          "metadata": {}
        }
      ]
    },
    {
      "cell_type": "code",
      "source": [
        "#LABELS\n",
        "import os\n",
        "import json\n",
        "import cv2\n",
        "import numpy as np\n",
        "\n",
        "# Set the input and output directories\n",
        "input_dir = '/content/drive/MyDrive/wound_detection/wdd_temp1/cropped_images/labels'\n",
        "output_dir = '/content/drive/MyDrive/wound_detection/wdd_temp1/segmentation_data/masks'\n",
        "\n",
        "\n",
        "# Create the output directory if it doesn't exist\n",
        "if not os.path.exists(output_dir):\n",
        "    os.makedirs(output_dir)\n",
        "\n",
        "count = 0\n",
        "# Iterate over all JSON files in the input directory\n",
        "for filename in os.listdir(input_dir):\n",
        "    if filename.endswith(\".json\"):\n",
        "        # print(f\"Processing {filename}...\")\n",
        "\n",
        "        # Load the JSON file\n",
        "        with open(os.path.join(input_dir, filename)) as f:\n",
        "            data = json.load(f)\n",
        "\n",
        "        # Create a white mask image\n",
        "        mask = np.ones((data['imageHeight'], data['imageWidth'], 3), dtype=np.uint8) * 255\n",
        "\n",
        "        # Iterate over the shapes in the JSON data\n",
        "        roi_points = None\n",
        "        for shape in data['shapes']:\n",
        "            label = shape['label']\n",
        "            points = np.array(shape['points'], dtype=np.int32)\n",
        "\n",
        "            if label == 'roi':\n",
        "                roi_points = points\n",
        "                x, y, w, h = cv2.boundingRect(points)\n",
        "                cv2.rectangle(mask, (x, y), (x+w, y+h), (0, 0, 0), -1)  # fill with black\n",
        "            elif label == 'wound_area':\n",
        "                cv2.fillPoly(mask, [points], (0, 255, 0))\n",
        "            elif label == 'wound':\n",
        "                cv2.fillPoly(mask, [points], (0, 0, 255))\n",
        "\n",
        "        # Crop the mask image using the ROI coordinates\n",
        "        if roi_points is not None:\n",
        "            x, y, w, h = cv2.boundingRect(roi_points)\n",
        "            cropped_mask = mask[y:y+h, x:x+w]\n",
        "        else:\n",
        "            cropped_mask = mask\n",
        "            print(\"!!!\")\n",
        "        #\n",
        "        # Save the masked image\n",
        "        filename1 = os.path.splitext(filename)[0]\n",
        "        cv2.imwrite(os.path.join(output_dir, f\"{filename1}.jpg\"), cropped_mask)\n",
        "\n",
        "    count += 1\n",
        "print(count)\n",
        "\n",
        "print(\"Success\")"
      ],
      "metadata": {
        "colab": {
          "base_uri": "https://localhost:8080/"
        },
        "id": "lKryKgHFfb4b",
        "outputId": "015d2737-1cbf-4605-8317-f2038a957402"
      },
      "execution_count": null,
      "outputs": [
        {
          "output_type": "stream",
          "name": "stdout",
          "text": [
            "68\n",
            "Success\n"
          ]
        }
      ]
    },
    {
      "cell_type": "code",
      "source": [
        "import shutil\n",
        "import os\n",
        "\n",
        "src_folder = '/content/drive/MyDrive/wound_detection/wdd_temp1/cropped_images/images'\n",
        "dst_folder = '/content/drive/MyDrive/wound_detection/wdd_temp1/segmentation_data/images'\n",
        "\n",
        "if not os.path.exists(dst_folder):\n",
        "    os.makedirs(dst_folder)\n",
        "\n",
        "for filename in os.listdir(src_folder):\n",
        "    if filename.endswith(('.jpg')):\n",
        "        shutil.copy(os.path.join(src_folder, filename), dst_folder)"
      ],
      "metadata": {
        "id": "rCYEaKejkd8Y"
      },
      "execution_count": null,
      "outputs": []
    },
    {
      "cell_type": "code",
      "source": [
        "import os\n",
        "import cv2\n",
        "\n",
        "# Set the folder paths\n",
        "images_folder = '/content/drive/MyDrive/wound_detection/wdd_temp1/segmentation_data/images'\n",
        "labels_folder = '/content/drive/MyDrive/wound_detection/wdd_temp1/segmentation_data/masks'\n",
        "\n",
        "# Set the desired image size\n",
        "target_size = (512, 512)\n",
        "\n",
        "# Resize images and convert to PNG\n",
        "for filename in os.listdir(images_folder):\n",
        "    if filename.endswith('.jpg'):\n",
        "        img_path = os.path.join(images_folder, filename)\n",
        "        img = cv2.imread(img_path)\n",
        "        resized_img = cv2.resize(img, target_size)\n",
        "        png_filename = filename.replace('.jpg', '.png')\n",
        "        png_path = os.path.join(images_folder, png_filename)\n",
        "        cv2.imwrite(png_path, resized_img)\n",
        "        os.remove(img_path)\n",
        "\n",
        "# Resize labels and convert to PNG\n",
        "for filename in os.listdir(labels_folder):\n",
        "    if filename.endswith('.jpg'):\n",
        "        label_path = os.path.join(labels_folder, filename)\n",
        "        label = cv2.imread(label_path)\n",
        "        resized_label = cv2.resize(label, target_size)\n",
        "        png_filename = filename.replace('.jpg', '.png')\n",
        "        png_path = os.path.join(labels_folder, png_filename)\n",
        "        cv2.imwrite(png_path, resized_label)\n",
        "        os.remove(label_path)\n",
        "\n",
        "print(\"All images and labels resized to 512x512, converted to PNG, and original .jpg files removed!\")"
      ],
      "metadata": {
        "colab": {
          "base_uri": "https://localhost:8080/"
        },
        "id": "khdaF8c9keEg",
        "outputId": "54f5d8ed-b90a-420a-b7c0-b938083263f6"
      },
      "execution_count": null,
      "outputs": [
        {
          "output_type": "stream",
          "name": "stdout",
          "text": [
            "All images and labels resized to 512x512, converted to PNG, and original .jpg files removed!\n"
          ]
        }
      ]
    },
    {
      "cell_type": "code",
      "source": [],
      "metadata": {
        "id": "Q_dU_i27keGs"
      },
      "execution_count": null,
      "outputs": []
    }
  ]
}