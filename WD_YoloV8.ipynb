{
  "nbformat": 4,
  "nbformat_minor": 0,
  "metadata": {
    "colab": {
      "provenance": [],
      "gpuType": "T4"
    },
    "kernelspec": {
      "name": "python3",
      "display_name": "Python 3"
    },
    "language_info": {
      "name": "python"
    },
    "accelerator": "GPU"
  },
  "cells": [
    {
      "cell_type": "code",
      "source": [],
      "metadata": {
        "id": "QfkfxJflh17-"
      },
      "execution_count": null,
      "outputs": []
    },
    {
      "cell_type": "code",
      "execution_count": 1,
      "metadata": {
        "id": "Ws4nxBL63xuw",
        "colab": {
          "base_uri": "https://localhost:8080/"
        },
        "outputId": "7571ac18-9cab-4811-9e93-aafc62167a64"
      },
      "outputs": [
        {
          "output_type": "stream",
          "name": "stdout",
          "text": [
            "Mounted at /content/drive\n"
          ]
        }
      ],
      "source": [
        "from google.colab import drive\n",
        "drive.mount('/content/drive')"
      ]
    },
    {
      "cell_type": "code",
      "source": [
        "import cv2\n",
        "\n",
        "image = cv2.imread('/content/20231003_140634.jpg')\n",
        "\n",
        "org_image_wt = image.shape[1]\n",
        "org_image_ht = image.shape[0]\n",
        "# print(org_image_wt)\n",
        "# print(org_image_ht)"
      ],
      "metadata": {
        "id": "AeidLbR9s4U6",
        "colab": {
          "base_uri": "https://localhost:8080/"
        },
        "outputId": "b5165e03-ba2a-468c-a3b4-c41db8161a16"
      },
      "execution_count": 3,
      "outputs": [
        {
          "output_type": "error",
          "ename": "AttributeError",
          "evalue": "'NoneType' object has no attribute 'shape'",
          "traceback": [
            "\u001b[0;31m---------------------------------------------------------------------------\u001b[0m",
            "\u001b[0;31mAttributeError\u001b[0m                            Traceback (most recent call last)",
            "\u001b[0;32m<ipython-input-3-3a3cb585d019>\u001b[0m in \u001b[0;36m<cell line: 5>\u001b[0;34m()\u001b[0m\n\u001b[1;32m      3\u001b[0m \u001b[0mimage\u001b[0m \u001b[0;34m=\u001b[0m \u001b[0mcv2\u001b[0m\u001b[0;34m.\u001b[0m\u001b[0mimread\u001b[0m\u001b[0;34m(\u001b[0m\u001b[0;34m'/content/20231003_140634.jpg'\u001b[0m\u001b[0;34m)\u001b[0m\u001b[0;34m\u001b[0m\u001b[0;34m\u001b[0m\u001b[0m\n\u001b[1;32m      4\u001b[0m \u001b[0;34m\u001b[0m\u001b[0m\n\u001b[0;32m----> 5\u001b[0;31m \u001b[0morg_image_wt\u001b[0m \u001b[0;34m=\u001b[0m \u001b[0mimage\u001b[0m\u001b[0;34m.\u001b[0m\u001b[0mshape\u001b[0m\u001b[0;34m[\u001b[0m\u001b[0;36m1\u001b[0m\u001b[0;34m]\u001b[0m\u001b[0;34m\u001b[0m\u001b[0;34m\u001b[0m\u001b[0m\n\u001b[0m\u001b[1;32m      6\u001b[0m \u001b[0morg_image_ht\u001b[0m \u001b[0;34m=\u001b[0m \u001b[0mimage\u001b[0m\u001b[0;34m.\u001b[0m\u001b[0mshape\u001b[0m\u001b[0;34m[\u001b[0m\u001b[0;36m0\u001b[0m\u001b[0;34m]\u001b[0m\u001b[0;34m\u001b[0m\u001b[0;34m\u001b[0m\u001b[0m\n\u001b[1;32m      7\u001b[0m \u001b[0;31m# print(org_image_wt)\u001b[0m\u001b[0;34m\u001b[0m\u001b[0;34m\u001b[0m\u001b[0m\n",
            "\u001b[0;31mAttributeError\u001b[0m: 'NoneType' object has no attribute 'shape'"
          ]
        }
      ]
    },
    {
      "cell_type": "code",
      "source": [
        "import json\n",
        "import os\n",
        "import cv2\n",
        "import shutil\n",
        "import numpy as np\n",
        "\n",
        "# Set the input and output directories\n",
        "input_dir = '/content/drive/MyDrive/wound_detection (1)'\n",
        "output_dir = '/content/drive/MyDrive/wound_detection/wdd_temp/prepared_data'\n",
        "\n",
        "# Create the output directory structure\n",
        "os.makedirs(os.path.join(output_dir, 'train', 'images'), exist_ok=True)\n",
        "os.makedirs(os.path.join(output_dir, 'train', 'labels'), exist_ok=True)\n",
        "os.makedirs(os.path.join(output_dir, 'val', 'images'), exist_ok=True)\n",
        "os.makedirs(os.path.join(output_dir, 'val', 'labels'), exist_ok=True)\n",
        "os.makedirs(os.path.join(output_dir, 'test', 'images'), exist_ok=True)\n",
        "os.makedirs(os.path.join(output_dir, 'test', 'labels'), exist_ok=True)\n",
        "\n",
        "# Define the train, val, and test split ratios\n",
        "train_ratio = 0.7\n",
        "val_ratio = 0.2\n",
        "test_ratio = 0.1\n",
        "\n",
        "# Function to resize image to 224x224\n",
        "def resize_image(image):\n",
        "    return cv2.resize(image, (224, 224))\n",
        "\n",
        "# Iterate over the input subdirectories\n",
        "for main_subdir in os.listdir(input_dir):\n",
        "    if os.path.isdir(os.path.join(input_dir, main_subdir)):\n",
        "        for subdir in os.listdir(os.path.join(input_dir, main_subdir)):\n",
        "            if os.path.isdir(os.path.join(input_dir, main_subdir, subdir)):\n",
        "                for filename in os.listdir(os.path.join(input_dir, main_subdir, subdir)):\n",
        "                    if filename.endswith('.json'):\n",
        "                        # Load the JSON annotation file\n",
        "                        with open(os.path.join(input_dir, main_subdir, subdir, filename), 'r') as f:\n",
        "                            data = json.load(f)\n",
        "\n",
        "                        # Extract the image filename and ROI coordinates\n",
        "                        image_filename = data['imagePath']\n",
        "                        image_path = os.path.join(input_dir, main_subdir, subdir, image_filename.replace('.json', '.jpg'))\n",
        "                        roi_coords = data['shapes'][0]['points']\n",
        "\n",
        "                        # Check if the image file exists\n",
        "                        if os.path.exists(image_path):\n",
        "                            try:\n",
        "                                # Load the image\n",
        "                                image = cv2.imread(image_path)\n",
        "                                image = resize_image(image)\n",
        "\n",
        "                                # Determine the split set (train, val, or test)\n",
        "                                split_set = 'train'\n",
        "                                rand_value = np.random.random()\n",
        "                                if rand_value < val_ratio:\n",
        "                                    split_set = 'val'\n",
        "                                elif rand_value < val_ratio + test_ratio:\n",
        "                                    split_set = 'test'\n",
        "\n",
        "                                # Save the resized image\n",
        "                                cv2.imwrite(os.path.join(output_dir, split_set, 'images', image_filename.replace('.json', '.jpg')), image)\n",
        "\n",
        "                                # Generate the YOLO format label\n",
        "                                label_filename = os.path.splitext(image_filename)[0] + '.txt'\n",
        "                                label_path = os.path.join(output_dir, split_set, 'labels', label_filename)\n",
        "                                with open(label_path, 'w') as f:\n",
        "                                    # Assuming a single object (roi) in the image\n",
        "                                    x_center = (roi_coords[0][0] + roi_coords[1][0]) / 2\n",
        "                                    y_center = (roi_coords[0][1] + roi_coords[1][1]) / 2\n",
        "                                    width = abs(roi_coords[1][0] - roi_coords[0][0])\n",
        "                                    height = abs(roi_coords[1][1] - roi_coords[0][1])\n",
        "                                    # Normalize coordinates\n",
        "                                    x_center /= org_image_wt\n",
        "                                    y_center /= org_image_ht\n",
        "                                    width /= org_image_wt\n",
        "                                    height /= org_image_ht\n",
        "                                    f.write(f'0 {x_center} {y_center} {width} {height}')\n",
        "\n",
        "                            except cv2.error as e:\n",
        "                                print(f\"Error processing {image_path}: {e}\")\n",
        "                            except Exception as e:\n",
        "                                print(f\"Unexpected error processing {image_path}: {e}\")\n",
        "                        else:\n",
        "                            print(f\"Image file not found: {image_path}\")\n",
        "\n",
        "print('Dataset preparation complete!')\n"
      ],
      "metadata": {
        "id": "yQM3Ysprj_97",
        "colab": {
          "base_uri": "https://localhost:8080/"
        },
        "outputId": "0f386327-2c59-4bfd-a01a-41400637f88a"
      },
      "execution_count": 4,
      "outputs": [
        {
          "output_type": "stream",
          "name": "stdout",
          "text": [
            "Dataset preparation complete!\n"
          ]
        }
      ]
    },
    {
      "cell_type": "code",
      "source": [
        "!pip install ultralytics==8.0.20\n",
        "\n",
        "from IPython import display\n",
        "display.clear_output()\n",
        "\n",
        "import ultralytics\n",
        "ultralytics.checks()"
      ],
      "metadata": {
        "id": "lbXyFIAp6L0Z"
      },
      "execution_count": null,
      "outputs": []
    },
    {
      "cell_type": "code",
      "source": [
        "from ultralytics import YOLO\n",
        "# %cd /content/drive/MyDrive/wound_detection/wdd_temp\n",
        "# !yolo task=detect mode=train model=yolov8s.pt data= data.yaml epochs=25 imgsz=224 plots=True"
      ],
      "metadata": {
        "id": "kfoFTraY6L23"
      },
      "execution_count": null,
      "outputs": []
    },
    {
      "cell_type": "code",
      "source": [
        "# !yolo task=detect mode=predict model=/content/drive/MyDrive/wound_detection/wdd_temp/runs/detect/train/weights/best.pt conf=0.25 source=/content/drive/MyDrive/wound_detection/wdd_temp/prepared_data/test/images save=True"
      ],
      "metadata": {
        "id": "ofGnDYQ86MMw"
      },
      "execution_count": null,
      "outputs": []
    },
    {
      "cell_type": "code",
      "source": [
        "# !yolo task=detect mode=predict model=/content/drive/MyDrive/wound_detection/wdd_temp/runs/detect/train/weights/best.pt conf=0.05 source=/content/drive/MyDrive/example save=True"
      ],
      "metadata": {
        "id": "EoEgyQWe6MOn"
      },
      "execution_count": null,
      "outputs": []
    },
    {
      "cell_type": "code",
      "source": [
        "import glob\n",
        "from PIL import Image\n",
        "from IPython.display import Image,display\n",
        "\n",
        "for image_path in glob.glob('/content/runs/detect/predict5/*.jpg'):\n",
        "  display(Image(filename=image_path, width=600))\n",
        "  print('\\n')"
      ],
      "metadata": {
        "id": "u9yW3BsO6MQv"
      },
      "execution_count": null,
      "outputs": []
    },
    {
      "cell_type": "code",
      "source": [
        "from IPython.display import Image, display\n",
        "\n",
        "# Display the image\n",
        "display(Image(filename='/content/runs/detect/predict4/20221102_224054.jpg'))"
      ],
      "metadata": {
        "id": "x47-xvNt6MTI"
      },
      "execution_count": null,
      "outputs": []
    },
    {
      "cell_type": "code",
      "source": [
        "from ultralytics import YOLO\n",
        "model = YOLO(\"yolov8n-seg.pt\")\n",
        "model.predict(source='/content/drive/MyDrive/wound_detection/wdd_temp/admsc/admsc_day0/20231003_140634.jpg')"
      ],
      "metadata": {
        "id": "eM4_2qWuRDZ6"
      },
      "execution_count": null,
      "outputs": []
    },
    {
      "cell_type": "code",
      "source": [],
      "metadata": {
        "id": "5dn5kryESWEp"
      },
      "execution_count": null,
      "outputs": []
    }
  ]
}